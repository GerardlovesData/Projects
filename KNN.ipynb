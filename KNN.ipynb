{
 "cells": [
  {
   "cell_type": "code",
   "execution_count": 1,
   "metadata": {
    "collapsed": true,
    "deletable": true,
    "editable": true
   },
   "outputs": [],
   "source": [
    "# hyperparameters: https://scikit-learn.org/stable/modules/generated/sklearn.neighbors.KNeighborsClassifier.html\n",
    "# explanation: https://scikit-learn.org/stable/modules/neighbors.html\n",
    "\n",
    "# detailed explanation of how knn works: https://www.youtube.com/watch?v=6kZ-OPLNcgE\n",
    "\n",
    "# UNSUPERVISED: K Means clustering creates Centroids around which to create clusters\n",
    "# SUPERVISED: knn groups new data points and votes on what label to place on them based on the labels of the nearest k neigbors"
   ]
  },
  {
   "cell_type": "code",
   "execution_count": 2,
   "metadata": {
    "collapsed": false,
    "deletable": true,
    "editable": true
   },
   "outputs": [
    {
     "name": "stderr",
     "output_type": "stream",
     "text": [
      "C:\\Users\\groldan\\AppData\\Local\\Enthought\\Canopy\\edm\\envs\\User\\lib\\site-packages\\sklearn\\cross_validation.py:41: DeprecationWarning: This module was deprecated in version 0.18 in favor of the model_selection module into which all the refactored classes and functions are moved. Also note that the interface of the new CV iterators are different from that of this module. This module will be removed in 0.20.\n",
      "  \"This module will be removed in 0.20.\", DeprecationWarning)\n"
     ]
    }
   ],
   "source": [
    "# practice example: https://www.youtube.com/watch?v=s-9Qqpv2hTY\n",
    "\n",
    "import numpy as np\n",
    "import pandas as pd\n",
    "\n",
    "import scipy\n",
    "import matplotlib.pyplot as plt\n",
    "from pylab import rcParams\n",
    "import urllib\n",
    "import sklearn\n",
    "from sklearn import neighbors\n",
    "from sklearn.neighbors import KNeighborsClassifier\n",
    "from sklearn import preprocessing\n",
    "from sklearn.cross_validation import train_test_split\n",
    "\n",
    "from sklearn import metrics\n"
   ]
  },
  {
   "cell_type": "code",
   "execution_count": 3,
   "metadata": {
    "collapsed": false,
    "deletable": true,
    "editable": true
   },
   "outputs": [],
   "source": [
    "np.set_printoptions(precision=4, suppress=True)\n",
    "%matplotlib inline\n",
    "rcParams['figure.figsize']=7,4\n",
    "plt.style.use('seaborn-whitegrid')"
   ]
  },
  {
   "cell_type": "code",
   "execution_count": 4,
   "metadata": {
    "collapsed": false,
    "deletable": true,
    "editable": true
   },
   "outputs": [],
   "source": [
    "cars=pd.read_csv(r'''C:\\GitHub Upload\\Data Files\\mtcars.csv''')\n",
    "\n",
    "cars.columns=['model','mpg','cyl','disp','hp','drat','wt','qsec','vs','am','gear','carb']\n",
    "\n",
    "X_prime=cars[['mpg', 'disp', 'hp', 'wt']]\n",
    "\n",
    "y=cars[['am']]"
   ]
  },
  {
   "cell_type": "code",
   "execution_count": 5,
   "metadata": {
    "collapsed": false,
    "deletable": true,
    "editable": true
   },
   "outputs": [
    {
     "data": {
      "text/plain": [
       "array([[ 0.1533, -0.5798, -0.5437, -0.6202],\n",
       "       [ 0.1533, -0.5798, -0.5437, -0.3554],\n",
       "       [ 0.4567, -1.006 , -0.7956, -0.9317],\n",
       "       [ 0.2207,  0.2236, -0.5437, -0.0023],\n",
       "       [-0.2344,  1.0598,  0.4195,  0.2313],\n",
       "       [-0.3356, -0.0469, -0.6177,  0.2521],\n",
       "       [-0.9762,  1.0598,  1.4568,  0.3663],\n",
       "       [ 0.7265, -0.6888, -1.2549, -0.0283],\n",
       "       [ 0.4567, -0.7371, -0.7659, -0.0698],\n",
       "       [-0.1501, -0.5174, -0.351 ,  0.2313],\n",
       "       [-0.3861, -0.5174, -0.351 ,  0.2313],\n",
       "       [-0.6222,  0.3695,  0.4936,  0.8855],\n",
       "       [-0.4704,  0.3695,  0.4936,  0.5324],\n",
       "       [-0.8244,  0.3695,  0.4936,  0.5843],\n",
       "       [-1.6336,  1.9779,  0.8641,  2.1107],\n",
       "       [-1.6336,  1.8795,  1.0123,  2.2914],\n",
       "       [-0.9087,  1.7156,  1.2346,  2.2094],\n",
       "       [ 2.0751, -1.2462, -1.1957, -1.0563],\n",
       "       [ 1.7379, -1.2708, -1.4031, -1.6637],\n",
       "       [ 2.3279, -1.3085, -1.2105, -1.4353],\n",
       "       [ 0.2376, -0.9068, -0.7363, -0.7811],\n",
       "       [-0.7739,  0.7155,  0.0491,  0.3144],\n",
       "       [-0.8244,  0.6007,  0.0491,  0.2261],\n",
       "       [-1.1447,  0.9778,  1.4568,  0.6466],\n",
       "       [-0.1501,  1.3877,  0.4195,  0.6518],\n",
       "       [ 1.2153, -1.2438, -1.1957, -1.3315],\n",
       "       [ 0.9962, -0.9052, -0.8252, -1.1186],\n",
       "       [ 1.7379, -1.1118, -0.4992, -1.7696],\n",
       "       [-0.7233,  0.986 ,  1.7384, -0.0491],\n",
       "       [-0.0659, -0.7027,  0.4195, -0.4644],\n",
       "       [-0.8582,  0.5761,  2.7905,  0.3663],\n",
       "       [ 0.2207, -0.8995, -0.5585, -0.454 ]])"
      ]
     },
     "execution_count": 5,
     "metadata": {},
     "output_type": "execute_result"
    }
   ],
   "source": [
    "X=preprocessing.scale(X_prime)\n",
    "X"
   ]
  },
  {
   "cell_type": "code",
   "execution_count": 6,
   "metadata": {
    "collapsed": false,
    "deletable": true,
    "editable": true
   },
   "outputs": [
    {
     "name": "stderr",
     "output_type": "stream",
     "text": [
      "C:\\Users\\groldan\\AppData\\Local\\Enthought\\Canopy\\edm\\envs\\User\\lib\\site-packages\\ipykernel\\__main__.py:4: DataConversionWarning: A column-vector y was passed when a 1d array was expected. Please change the shape of y to (n_samples, ), for example using ravel().\n"
     ]
    },
    {
     "data": {
      "text/plain": [
       "KNeighborsClassifier(algorithm='auto', leaf_size=30, metric='minkowski',\n",
       "           metric_params=None, n_jobs=1, n_neighbors=5, p=2,\n",
       "           weights='uniform')"
      ]
     },
     "execution_count": 6,
     "metadata": {},
     "output_type": "execute_result"
    }
   ],
   "source": [
    "X_train, X_test, y_train, y_test=train_test_split(X, y, test_size=0.33, random_state=17)\n",
    "\n",
    "clf=neighbors.KNeighborsClassifier()\n",
    "clf.fit(X_train, y_train)\n",
    "clf"
   ]
  },
  {
   "cell_type": "code",
   "execution_count": 7,
   "metadata": {
    "collapsed": false,
    "deletable": true,
    "editable": true
   },
   "outputs": [
    {
     "name": "stdout",
     "output_type": "stream",
     "text": [
      "             precision    recall  f1-score   support\n",
      "\n",
      "          0       0.71      1.00      0.83         5\n",
      "          1       1.00      0.67      0.80         6\n",
      "\n",
      "avg / total       0.87      0.82      0.82        11\n",
      "\n"
     ]
    }
   ],
   "source": [
    "y_pred=clf.predict(X_test)\n",
    "\n",
    "print(metrics.classification_report(y_test, y_pred))"
   ]
  }
 ],
 "metadata": {
  "kernelspec": {
   "display_name": "Python 3",
   "language": "python",
   "name": "python3"
  },
  "language_info": {
   "codemirror_mode": {
    "name": "ipython",
    "version": 3
   },
   "file_extension": ".py",
   "mimetype": "text/x-python",
   "name": "python",
   "nbconvert_exporter": "python",
   "pygments_lexer": "ipython3",
   "version": "3.5.2"
  },
  "varInspector": {
   "cols": {
    "lenName": 16,
    "lenType": 16,
    "lenVar": 40
   },
   "kernels_config": {
    "python": {
     "delete_cmd_postfix": "",
     "delete_cmd_prefix": "del ",
     "library": "var_list.py",
     "varRefreshCmd": "print(var_dic_list())"
    },
    "r": {
     "delete_cmd_postfix": ") ",
     "delete_cmd_prefix": "rm(",
     "library": "var_list.r",
     "varRefreshCmd": "cat(var_dic_list()) "
    }
   },
   "types_to_exclude": [
    "module",
    "function",
    "builtin_function_or_method",
    "instance",
    "_Feature"
   ],
   "window_display": false
  }
 },
 "nbformat": 4,
 "nbformat_minor": 2
}

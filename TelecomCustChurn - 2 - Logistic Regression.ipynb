{
 "cells": [
  {
   "cell_type": "code",
   "execution_count": 1,
   "metadata": {
    "collapsed": false,
    "deletable": true,
    "editable": true
   },
   "outputs": [
    {
     "data": {
      "text/html": [
       "<div>\n",
       "<style>\n",
       "    .dataframe thead tr:only-child th {\n",
       "        text-align: right;\n",
       "    }\n",
       "\n",
       "    .dataframe thead th {\n",
       "        text-align: left;\n",
       "    }\n",
       "\n",
       "    .dataframe tbody tr th {\n",
       "        vertical-align: top;\n",
       "    }\n",
       "</style>\n",
       "<table border=\"1\" class=\"dataframe\">\n",
       "  <thead>\n",
       "    <tr style=\"text-align: right;\">\n",
       "      <th></th>\n",
       "      <th>customerID</th>\n",
       "      <th>Churn</th>\n",
       "      <th>gender</th>\n",
       "      <th>SeniorCitizen</th>\n",
       "      <th>Partner</th>\n",
       "      <th>Dependents</th>\n",
       "      <th>tenure</th>\n",
       "      <th>tenure_tiers</th>\n",
       "      <th>tenure_0-3mos</th>\n",
       "      <th>tenure_3-6mos</th>\n",
       "      <th>...</th>\n",
       "      <th>MonthlyCharges</th>\n",
       "      <th>MonthlyCharges_tiers</th>\n",
       "      <th>MonthlyCharges_0-19.99</th>\n",
       "      <th>MonthlyCharges_20-39.99</th>\n",
       "      <th>MonthlyCharges_40-59.99</th>\n",
       "      <th>MonthlyCharges_60-79.99</th>\n",
       "      <th>MonthlyCharges_80-99.99</th>\n",
       "      <th>MonthlyCharges_100-119.99</th>\n",
       "      <th>TotalCharges</th>\n",
       "      <th>Blend</th>\n",
       "    </tr>\n",
       "  </thead>\n",
       "  <tbody>\n",
       "    <tr>\n",
       "      <th>0</th>\n",
       "      <td>2923-ARZLG</td>\n",
       "      <td>0</td>\n",
       "      <td>1</td>\n",
       "      <td>0</td>\n",
       "      <td>1</td>\n",
       "      <td>1</td>\n",
       "      <td>0</td>\n",
       "      <td>0-3mos</td>\n",
       "      <td>1</td>\n",
       "      <td>0</td>\n",
       "      <td>...</td>\n",
       "      <td>19.70</td>\n",
       "      <td>0-19.99</td>\n",
       "      <td>1</td>\n",
       "      <td>0</td>\n",
       "      <td>0</td>\n",
       "      <td>0</td>\n",
       "      <td>0</td>\n",
       "      <td>0</td>\n",
       "      <td></td>\n",
       "      <td>1</td>\n",
       "    </tr>\n",
       "    <tr>\n",
       "      <th>1</th>\n",
       "      <td>7644-OMVMY</td>\n",
       "      <td>0</td>\n",
       "      <td>1</td>\n",
       "      <td>0</td>\n",
       "      <td>1</td>\n",
       "      <td>1</td>\n",
       "      <td>0</td>\n",
       "      <td>0-3mos</td>\n",
       "      <td>1</td>\n",
       "      <td>0</td>\n",
       "      <td>...</td>\n",
       "      <td>19.85</td>\n",
       "      <td>0-19.99</td>\n",
       "      <td>1</td>\n",
       "      <td>0</td>\n",
       "      <td>0</td>\n",
       "      <td>0</td>\n",
       "      <td>0</td>\n",
       "      <td>0</td>\n",
       "      <td></td>\n",
       "      <td>1</td>\n",
       "    </tr>\n",
       "    <tr>\n",
       "      <th>2</th>\n",
       "      <td>2520-SGTTA</td>\n",
       "      <td>0</td>\n",
       "      <td>0</td>\n",
       "      <td>0</td>\n",
       "      <td>1</td>\n",
       "      <td>1</td>\n",
       "      <td>0</td>\n",
       "      <td>0-3mos</td>\n",
       "      <td>1</td>\n",
       "      <td>0</td>\n",
       "      <td>...</td>\n",
       "      <td>20.00</td>\n",
       "      <td>20-39.99</td>\n",
       "      <td>0</td>\n",
       "      <td>1</td>\n",
       "      <td>0</td>\n",
       "      <td>0</td>\n",
       "      <td>0</td>\n",
       "      <td>0</td>\n",
       "      <td></td>\n",
       "      <td>1</td>\n",
       "    </tr>\n",
       "    <tr>\n",
       "      <th>3</th>\n",
       "      <td>3115-CZMZD</td>\n",
       "      <td>0</td>\n",
       "      <td>1</td>\n",
       "      <td>0</td>\n",
       "      <td>0</td>\n",
       "      <td>1</td>\n",
       "      <td>0</td>\n",
       "      <td>0-3mos</td>\n",
       "      <td>1</td>\n",
       "      <td>0</td>\n",
       "      <td>...</td>\n",
       "      <td>20.25</td>\n",
       "      <td>20-39.99</td>\n",
       "      <td>0</td>\n",
       "      <td>1</td>\n",
       "      <td>0</td>\n",
       "      <td>0</td>\n",
       "      <td>0</td>\n",
       "      <td>0</td>\n",
       "      <td></td>\n",
       "      <td>1</td>\n",
       "    </tr>\n",
       "    <tr>\n",
       "      <th>4</th>\n",
       "      <td>3213-VVOLG</td>\n",
       "      <td>0</td>\n",
       "      <td>1</td>\n",
       "      <td>0</td>\n",
       "      <td>1</td>\n",
       "      <td>1</td>\n",
       "      <td>0</td>\n",
       "      <td>0-3mos</td>\n",
       "      <td>1</td>\n",
       "      <td>0</td>\n",
       "      <td>...</td>\n",
       "      <td>25.35</td>\n",
       "      <td>20-39.99</td>\n",
       "      <td>0</td>\n",
       "      <td>1</td>\n",
       "      <td>0</td>\n",
       "      <td>0</td>\n",
       "      <td>0</td>\n",
       "      <td>0</td>\n",
       "      <td></td>\n",
       "      <td>1</td>\n",
       "    </tr>\n",
       "  </tbody>\n",
       "</table>\n",
       "<p>5 rows × 63 columns</p>\n",
       "</div>"
      ],
      "text/plain": [
       "   customerID  Churn  gender  SeniorCitizen  Partner  Dependents  tenure  \\\n",
       "0  2923-ARZLG      0       1              0        1           1       0   \n",
       "1  7644-OMVMY      0       1              0        1           1       0   \n",
       "2  2520-SGTTA      0       0              0        1           1       0   \n",
       "3  3115-CZMZD      0       1              0        0           1       0   \n",
       "4  3213-VVOLG      0       1              0        1           1       0   \n",
       "\n",
       "  tenure_tiers  tenure_0-3mos  tenure_3-6mos  ...   MonthlyCharges  \\\n",
       "0       0-3mos              1              0  ...            19.70   \n",
       "1       0-3mos              1              0  ...            19.85   \n",
       "2       0-3mos              1              0  ...            20.00   \n",
       "3       0-3mos              1              0  ...            20.25   \n",
       "4       0-3mos              1              0  ...            25.35   \n",
       "\n",
       "   MonthlyCharges_tiers  MonthlyCharges_0-19.99  MonthlyCharges_20-39.99  \\\n",
       "0               0-19.99                       1                        0   \n",
       "1               0-19.99                       1                        0   \n",
       "2              20-39.99                       0                        1   \n",
       "3              20-39.99                       0                        1   \n",
       "4              20-39.99                       0                        1   \n",
       "\n",
       "   MonthlyCharges_40-59.99  MonthlyCharges_60-79.99  MonthlyCharges_80-99.99  \\\n",
       "0                        0                        0                        0   \n",
       "1                        0                        0                        0   \n",
       "2                        0                        0                        0   \n",
       "3                        0                        0                        0   \n",
       "4                        0                        0                        0   \n",
       "\n",
       "   MonthlyCharges_100-119.99  TotalCharges Blend  \n",
       "0                          0                   1  \n",
       "1                          0                   1  \n",
       "2                          0                   1  \n",
       "3                          0                   1  \n",
       "4                          0                   1  \n",
       "\n",
       "[5 rows x 63 columns]"
      ]
     },
     "execution_count": 1,
     "metadata": {},
     "output_type": "execute_result"
    }
   ],
   "source": [
    "import pandas as pd\n",
    "\n",
    "data=pd.read_excel(r'''C:\\GitHub Upload\\TelecomCustChurn - 0 - Raw Data.xlsx''',  \n",
    "                   sheetname='clean')\n",
    "\n",
    "data.head()"
   ]
  },
  {
   "cell_type": "code",
   "execution_count": 2,
   "metadata": {
    "collapsed": false,
    "deletable": true,
    "editable": true
   },
   "outputs": [
    {
     "name": "stderr",
     "output_type": "stream",
     "text": [
      "C:\\Users\\groldan\\AppData\\Local\\Enthought\\Canopy\\edm\\envs\\User\\lib\\site-packages\\sklearn\\cross_validation.py:41: DeprecationWarning: This module was deprecated in version 0.18 in favor of the model_selection module into which all the refactored classes and functions are moved. Also note that the interface of the new CV iterators are different from that of this module. This module will be removed in 0.20.\n",
      "  \"This module will be removed in 0.20.\", DeprecationWarning)\n",
      "C:\\Users\\groldan\\AppData\\Local\\Enthought\\Canopy\\edm\\envs\\User\\lib\\site-packages\\sklearn\\grid_search.py:42: DeprecationWarning: This module was deprecated in version 0.18 in favor of the model_selection module into which all the refactored classes and functions are moved. This module will be removed in 0.20.\n",
      "  DeprecationWarning)\n"
     ]
    }
   ],
   "source": [
    "import math\n",
    "import numpy as np\n",
    "import pandas as pd\n",
    "from sklearn.grid_search import GridSearchCV\n",
    "from sklearn.linear_model import LogisticRegressionCV\n",
    "from sklearn.naive_bayes import GaussianNB\n",
    "from sklearn.cross_validation import cross_val_score, cross_val_predict, StratifiedKFold \n",
    "from sklearn import preprocessing, metrics, svm, ensemble\n",
    "from sklearn.metrics import accuracy_score, classification_report\n",
    "import tabpy_client "
   ]
  },
  {
   "cell_type": "code",
   "execution_count": 3,
   "metadata": {
    "collapsed": false,
    "deletable": true,
    "editable": true
   },
   "outputs": [
    {
     "name": "stdout",
     "output_type": "stream",
     "text": [
      "Classification report:\n",
      "             precision    recall  f1-score   support\n",
      "\n",
      "          0       0.82      0.89      0.86      5174\n",
      "          1       0.61      0.48      0.53      1869\n",
      "\n",
      "avg / total       0.77      0.78      0.77      7043\n",
      "\n",
      "Accuracy: 0.780\n",
      "Aucroc: 0.683\n"
     ]
    }
   ],
   "source": [
    "y=data['Churn']\n",
    "\n",
    "X=data[['Contract_mon_to_mon', 'InternetService_FiberOp', 'PaymentMethod_echeck', 'PaperlessBilling', 'OnlineSecurity_adj', \n",
    "       'TechSupport_adj', 'Dependents', 'SeniorCitizen', 'Partner']]\n",
    "\n",
    "# Scale the data. We will use the same scaler later for scoring function\n",
    "# scaler = preprocessing.StandardScaler().fit(X)\n",
    "# X = scaler.transform(X)\n",
    "\n",
    "# 10 fold stratified cross validation\n",
    "kf = StratifiedKFold(y, n_folds=10, random_state=None, shuffle=True)\n",
    "\n",
    "# Logistic regression with 10 fold stratified cross-validation using model specific cross-validation in scikit-learn\n",
    "lgclf = LogisticRegressionCV(Cs=list(np.power(10.0, np.arange(-10, 10))),penalty='l2',scoring='roc_auc',cv=kf) #penalty L2 not 12\n",
    "lgclf.fit(X, y)\n",
    "Churn_pred = lgclf.predict(X)\n",
    "\n",
    "# Show classification report for the best model (set of parameters) run over the full dataset\n",
    "print(\"Classification report:\")\n",
    "print(classification_report(y, Churn_pred))\n",
    "\n",
    "# Show accuracy and area under ROC curve\n",
    "print(\"Accuracy: %0.3f\" % accuracy_score(y, Churn_pred, normalize=True))\n",
    "print(\"Aucroc: %0.3f\" % metrics.roc_auc_score(y, Churn_pred))"
   ]
  },
  {
   "cell_type": "code",
   "execution_count": null,
   "metadata": {
    "collapsed": false,
    "deletable": true,
    "editable": true
   },
   "outputs": [],
   "source": [
    "def ChurnProb(ContractM2M, FiberOp, eCheck, PaperlessBill, OnlineSec, TechSupp, Dependent, Senior, Partner):\n",
    "    X2=np.column_stack([ContractM2M, FiberOp, eCheck, PaperlessBill, OnlineSec, TechSupp, Dependent, Senior, Partner])\n",
    "    \n",
    "    list=lgclf.predict_proba(X2)\n",
    "    list=list[:, 1]\n",
    "\n",
    "    return list.tolist()\n",
    "\n",
    "# Connect to TabPy server using the client library\n",
    "connection = tabpy_client.Client('http://localhost:9004/')\n",
    "#connection = tabpy_client.Client('http://10.107.72.24:9004/api')\n",
    "\n",
    "connection.deploy('ChurnProb',\n",
    "                  ChurnProb,\n",
    "                  \"What is the customer's probability of churning?\", override='True')\n"
   ]
  },
  {
   "cell_type": "code",
   "execution_count": null,
   "metadata": {
    "collapsed": true
   },
   "outputs": [],
   "source": []
  },
  {
   "cell_type": "code",
   "execution_count": null,
   "metadata": {
    "collapsed": false,
    "deletable": true,
    "editable": true
   },
   "outputs": [],
   "source": [
    "\n",
    "connection.remove('ChurnProb')"
   ]
  },
  {
   "cell_type": "code",
   "execution_count": null,
   "metadata": {
    "collapsed": false,
    "deletable": true,
    "editable": true
   },
   "outputs": [],
   "source": [
    "from collections import Counter\n",
    "\n",
    "Counter(Churn_pred)"
   ]
  },
  {
   "cell_type": "code",
   "execution_count": null,
   "metadata": {
    "collapsed": true,
    "deletable": true,
    "editable": true
   },
   "outputs": [],
   "source": [
    "data['Churn_pred']=Churn_pred\n",
    "\n",
    "all=data[['Contract_mon_to_mon', 'InternetService_FiberOp', 'PaymentMethod_echeck', 'PaperlessBilling', 'OnlineSecurity_adj', \n",
    "       'TechSupport_adj', 'Dependents', 'SeniorCitizen', 'Partner', 'Churn', 'Churn_pred']]"
   ]
  },
  {
   "cell_type": "code",
   "execution_count": null,
   "metadata": {
    "collapsed": false,
    "deletable": true,
    "editable": true
   },
   "outputs": [],
   "source": [
    "#all.to_csv(r'''C:\\Users\\groldan\\Desktop\\My Learning\\Springboard\\_TelecomCustChurn_Analysis\\del.csv''')b\n"
   ]
  },
  {
   "cell_type": "code",
   "execution_count": null,
   "metadata": {
    "collapsed": false,
    "deletable": true,
    "editable": true
   },
   "outputs": [],
   "source": [
    "ChurnProb(1,1,1,1,0,0,0,0,0)"
   ]
  },
  {
   "cell_type": "markdown",
   "metadata": {
    "collapsed": true,
    "deletable": true,
    "editable": true
   },
   "source": [
    "1. Exclude duration variables (e.g. tenure) from model since there is multicollinearity between those variables and churn.\n",
    "2. Create unique models for Fiber Optic and DSL customers?\n",
    "3. Tune the model to be more accurate for predicting churners instead of non-churners."
   ]
  }
 ],
 "metadata": {
  "kernelspec": {
   "display_name": "Python 3",
   "language": "python",
   "name": "python3"
  },
  "language_info": {
   "codemirror_mode": {
    "name": "ipython",
    "version": 3
   },
   "file_extension": ".py",
   "mimetype": "text/x-python",
   "name": "python",
   "nbconvert_exporter": "python",
   "pygments_lexer": "ipython3",
   "version": "3.5.2"
  },
  "varInspector": {
   "cols": {
    "lenName": 16,
    "lenType": 16,
    "lenVar": 40
   },
   "kernels_config": {
    "python": {
     "delete_cmd_postfix": "",
     "delete_cmd_prefix": "del ",
     "library": "var_list.py",
     "varRefreshCmd": "print(var_dic_list())"
    },
    "r": {
     "delete_cmd_postfix": ") ",
     "delete_cmd_prefix": "rm(",
     "library": "var_list.r",
     "varRefreshCmd": "cat(var_dic_list()) "
    }
   },
   "types_to_exclude": [
    "module",
    "function",
    "builtin_function_or_method",
    "instance",
    "_Feature"
   ],
   "window_display": false
  }
 },
 "nbformat": 4,
 "nbformat_minor": 2
}
